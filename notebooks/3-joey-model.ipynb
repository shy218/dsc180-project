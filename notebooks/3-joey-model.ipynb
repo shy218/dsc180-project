{
 "cells": [
  {
   "cell_type": "code",
   "execution_count": 1,
   "metadata": {},
   "outputs": [],
   "source": [
    "import pandas as pd\n",
    "import numpy as np\n",
    "import pickle \n",
    "\n",
    "from sklearn.model_selection import train_test_split\n",
    "from sklearn.preprocessing import MultiLabelBinarizer, OneHotEncoder, FunctionTransformer\n",
    "from sklearn.pipeline import Pipeline\n",
    "from sklearn.compose import ColumnTransformer"
   ]
  },
  {
   "cell_type": "markdown",
   "metadata": {},
   "source": [
    "# 1. load & prepare data"
   ]
  },
  {
   "cell_type": "code",
   "execution_count": 2,
   "metadata": {},
   "outputs": [
    {
     "data": {
      "text/plain": [
       "(34891, 19)"
      ]
     },
     "execution_count": 2,
     "metadata": {},
     "output_type": "execute_result"
    }
   ],
   "source": [
    "# all_data = pickle.load(open('../data/processed/feature_encoded_merged_data.pkl', 'rb'))\n",
    "all_data = pd.read_pickle('../data/processed/feature_encoded_merged_data.pkl')\n",
    "\n",
    "all_data.shape"
   ]
  },
  {
   "cell_type": "code",
   "execution_count": 3,
   "metadata": {},
   "outputs": [
    {
     "data": {
      "text/html": [
       "<div>\n",
       "<style scoped>\n",
       "    .dataframe tbody tr th:only-of-type {\n",
       "        vertical-align: middle;\n",
       "    }\n",
       "\n",
       "    .dataframe tbody tr th {\n",
       "        vertical-align: top;\n",
       "    }\n",
       "\n",
       "    .dataframe thead th {\n",
       "        text-align: right;\n",
       "    }\n",
       "</style>\n",
       "<table border=\"1\" class=\"dataframe\">\n",
       "  <thead>\n",
       "    <tr style=\"text-align: right;\">\n",
       "      <th></th>\n",
       "      <th>date</th>\n",
       "      <th>time</th>\n",
       "      <th>event_type</th>\n",
       "      <th>cleaned_event</th>\n",
       "      <th>full_text</th>\n",
       "      <th>symbol</th>\n",
       "      <th>Surprise(%)</th>\n",
       "      <th>Reported EPS</th>\n",
       "      <th>Consensus EPS</th>\n",
       "      <th>hr</th>\n",
       "      <th>pre_market</th>\n",
       "      <th>date_idx</th>\n",
       "      <th>price_change_7</th>\n",
       "      <th>price_change_30</th>\n",
       "      <th>price_change_90</th>\n",
       "      <th>price_change_365</th>\n",
       "      <th>targe_price_change</th>\n",
       "      <th>unigram_vec</th>\n",
       "      <th>phrase_vec</th>\n",
       "    </tr>\n",
       "  </thead>\n",
       "  <tbody>\n",
       "    <tr>\n",
       "      <th>0</th>\n",
       "      <td>2003-11-06</td>\n",
       "      <td>163525</td>\n",
       "      <td>EVENTS:\\t\\tFinancial statements and exhibits\\n</td>\n",
       "      <td>[financial statements and exhibits]</td>\n",
       "      <td>\\n&lt;DOCUMENT&gt;\\nFILE:CNL/CNL-8K-20031106163525.t...</td>\n",
       "      <td>CNL</td>\n",
       "      <td>14.29</td>\n",
       "      <td>0.48</td>\n",
       "      <td>0.42</td>\n",
       "      <td>16.35</td>\n",
       "      <td>False</td>\n",
       "      <td>370</td>\n",
       "      <td>1.43</td>\n",
       "      <td>2.81</td>\n",
       "      <td>14.20</td>\n",
       "      <td>14.97</td>\n",
       "      <td>-0.122546</td>\n",
       "      <td>[1, 1, 1, 1, 1, 1, 1, 1, 1, 1, 1, 1, 1, 1, 1, ...</td>\n",
       "      <td>[0, 0, 0, 0, 0, 0, 0, 0, 0, 0, 1, 0, 0, 0, 0, ...</td>\n",
       "    </tr>\n",
       "    <tr>\n",
       "      <th>1</th>\n",
       "      <td>2004-03-09</td>\n",
       "      <td>170611</td>\n",
       "      <td>EVENTS:\\t\\tFinancial statements and exhibits\\n</td>\n",
       "      <td>[financial statements and exhibits]</td>\n",
       "      <td>\\n&lt;DOCUMENT&gt;\\nFILE:CNL/CNL-8K-20040309170611.t...</td>\n",
       "      <td>CNL</td>\n",
       "      <td>-150.00</td>\n",
       "      <td>-0.06</td>\n",
       "      <td>0.12</td>\n",
       "      <td>17.06</td>\n",
       "      <td>False</td>\n",
       "      <td>494</td>\n",
       "      <td>-0.58</td>\n",
       "      <td>2.48</td>\n",
       "      <td>11.09</td>\n",
       "      <td>78.98</td>\n",
       "      <td>-1.036715</td>\n",
       "      <td>[1, 1, 1, 1, 1, 1, 1, 1, 1, 1, 1, 1, 1, 1, 1, ...</td>\n",
       "      <td>[0, 0, 0, 0, 0, 0, 0, 0, 0, 0, 1, 0, 0, 0, 0, ...</td>\n",
       "    </tr>\n",
       "  </tbody>\n",
       "</table>\n",
       "</div>"
      ],
      "text/plain": [
       "         date    time                                      event_type  \\\n",
       "0  2003-11-06  163525  EVENTS:\\t\\tFinancial statements and exhibits\\n   \n",
       "1  2004-03-09  170611  EVENTS:\\t\\tFinancial statements and exhibits\\n   \n",
       "\n",
       "                         cleaned_event  \\\n",
       "0  [financial statements and exhibits]   \n",
       "1  [financial statements and exhibits]   \n",
       "\n",
       "                                           full_text symbol  Surprise(%)  \\\n",
       "0  \\n<DOCUMENT>\\nFILE:CNL/CNL-8K-20031106163525.t...    CNL        14.29   \n",
       "1  \\n<DOCUMENT>\\nFILE:CNL/CNL-8K-20040309170611.t...    CNL      -150.00   \n",
       "\n",
       "   Reported EPS  Consensus EPS     hr  pre_market  date_idx  price_change_7  \\\n",
       "0          0.48           0.42  16.35       False       370            1.43   \n",
       "1         -0.06           0.12  17.06       False       494           -0.58   \n",
       "\n",
       "   price_change_30  price_change_90  price_change_365  targe_price_change  \\\n",
       "0             2.81            14.20             14.97           -0.122546   \n",
       "1             2.48            11.09             78.98           -1.036715   \n",
       "\n",
       "                                         unigram_vec  \\\n",
       "0  [1, 1, 1, 1, 1, 1, 1, 1, 1, 1, 1, 1, 1, 1, 1, ...   \n",
       "1  [1, 1, 1, 1, 1, 1, 1, 1, 1, 1, 1, 1, 1, 1, 1, ...   \n",
       "\n",
       "                                          phrase_vec  \n",
       "0  [0, 0, 0, 0, 0, 0, 0, 0, 0, 0, 1, 0, 0, 0, 0, ...  \n",
       "1  [0, 0, 0, 0, 0, 0, 0, 0, 0, 0, 1, 0, 0, 0, 0, ...  "
      ]
     },
     "execution_count": 3,
     "metadata": {},
     "output_type": "execute_result"
    }
   ],
   "source": [
    "all_data.head(2)"
   ]
  },
  {
   "cell_type": "code",
   "execution_count": 4,
   "metadata": {},
   "outputs": [
    {
     "data": {
      "text/plain": [
       "Index(['date', 'time', 'event_type', 'cleaned_event', 'full_text', 'symbol',\n",
       "       'Surprise(%)', 'Reported EPS', 'Consensus EPS', 'hr', 'pre_market',\n",
       "       'date_idx', 'price_change_7', 'price_change_30', 'price_change_90',\n",
       "       'price_change_365', 'targe_price_change', 'unigram_vec', 'phrase_vec'],\n",
       "      dtype='object')"
      ]
     },
     "execution_count": 4,
     "metadata": {},
     "output_type": "execute_result"
    }
   ],
   "source": [
    "all_data.columns"
   ]
  },
  {
   "cell_type": "code",
   "execution_count": 5,
   "metadata": {},
   "outputs": [],
   "source": [
    "# def find_label(price_change):\n",
    "#     if price_change > 1:\n",
    "#         return 2\n",
    "#     elif price_change > -1:\n",
    "#         return 1\n",
    "#     else:\n",
    "#         return 0\n",
    "\n",
    "def find_label(target):\n",
    "    if target == 'UP':\n",
    "        return 2\n",
    "    elif target == 'STAY':\n",
    "        return 1\n",
    "    else:\n",
    "        return 0\n",
    "\n",
    "all_data['label'] = all_data.target.apply(find_label)"
   ]
  },
  {
   "cell_type": "code",
   "execution_count": 6,
   "metadata": {},
   "outputs": [],
   "source": [
    "# def clean_event_type_2(e):\n",
    "#     result = []\n",
    "#     for event in e:\n",
    "#         cleaned = event.replace('2.02', '').strip()\n",
    "#         if cleaned != '' and cleaned not in result:\n",
    "#             result.append(cleaned)\n",
    "#     return result\n",
    "# all_data.cleaned_event = all_data.cleaned_event.apply(clean_event_type_2)\n",
    "\n",
    "# all_event_type = []\n",
    "# for i in train_df.cleaned_event.values:\n",
    "#     for e in i:\n",
    "#         if e not in all_event_type:\n",
    "#             all_event_type.append(e)"
   ]
  },
  {
   "cell_type": "code",
   "execution_count": 7,
   "metadata": {},
   "outputs": [],
   "source": [
    "mlb = MultiLabelBinarizer()\n",
    "all_events = pd.DataFrame(mlb.fit_transform(all_data['cleaned_event']),\n",
    "                   columns = mlb.classes_,\n",
    "                   index = all_data['cleaned_event'].index)\n",
    "all_data = all_data.merge(all_events, left_index = True, right_index=True)"
   ]
  },
  {
   "cell_type": "code",
   "execution_count": 8,
   "metadata": {},
   "outputs": [],
   "source": [
    "train_df = all_data.query('dataset == \"train\"').reset_index(drop = True)\n",
    "val_df = all_data.query('dataset == \"val\"').reset_index(drop = True)\n",
    "test_df = all_data.query('dataset == \"test\"').reset_index(drop = True)"
   ]
  },
  {
   "cell_type": "code",
   "execution_count": 9,
   "metadata": {},
   "outputs": [
    {
     "data": {
      "text/plain": [
       "((17454, 57), (8714, 57), (8723, 57))"
      ]
     },
     "execution_count": 9,
     "metadata": {},
     "output_type": "execute_result"
    }
   ],
   "source": [
    "train_df.shape, val_df.shape, test_df.shape"
   ]
  },
  {
   "cell_type": "markdown",
   "metadata": {},
   "source": [
    "# 2. Train"
   ]
  },
  {
   "cell_type": "code",
   "execution_count": 10,
   "metadata": {},
   "outputs": [],
   "source": [
    "from sklearn.svm import LinearSVC\n",
    "from sklearn.pipeline import make_pipeline\n",
    "from sklearn.preprocessing import StandardScaler\n",
    "# from sklearn.datasets import make_classification"
   ]
  },
  {
   "cell_type": "markdown",
   "metadata": {},
   "source": [
    "## 2.1. Baseline 1"
   ]
  },
  {
   "cell_type": "code",
   "execution_count": 25,
   "metadata": {},
   "outputs": [],
   "source": [
    "y_train, y_val, y_test = train_df.label.values, val_df.label.values, test_df.label.values\n",
    "X_train, X_val, X_test = train_df[['Surprise(%)']], val_df[['Surprise(%)']], test_df[['Surprise(%)']]"
   ]
  },
  {
   "cell_type": "code",
   "execution_count": 26,
   "metadata": {},
   "outputs": [
    {
     "name": "stderr",
     "output_type": "stream",
     "text": [
      "/opt/conda/lib/python3.7/site-packages/sklearn/svm/_base.py:947: ConvergenceWarning: Liblinear failed to converge, increase the number of iterations.\n",
      "  \"the number of iterations.\", ConvergenceWarning)\n"
     ]
    },
    {
     "data": {
      "text/plain": [
       "Pipeline(memory=None,\n",
       "         steps=[('linearsvc',\n",
       "                 LinearSVC(C=0.1, class_weight=None, dual=True,\n",
       "                           fit_intercept=True, intercept_scaling=1,\n",
       "                           loss='squared_hinge', max_iter=1000,\n",
       "                           multi_class='ovr', penalty='l2', random_state=0,\n",
       "                           tol=1e-05, verbose=0))],\n",
       "         verbose=False)"
      ]
     },
     "execution_count": 26,
     "metadata": {},
     "output_type": "execute_result"
    }
   ],
   "source": [
    "clf = make_pipeline(LinearSVC(random_state=0, tol=1e-5, C = 0.1))\n",
    "clf.fit(X_train, y_train)"
   ]
  },
  {
   "cell_type": "code",
   "execution_count": 27,
   "metadata": {},
   "outputs": [
    {
     "data": {
      "text/plain": [
       "0.49203620946487914"
      ]
     },
     "execution_count": 27,
     "metadata": {},
     "output_type": "execute_result"
    }
   ],
   "source": [
    "sum(clf.predict(X_train) == y_train) / len(y_train)"
   ]
  },
  {
   "cell_type": "code",
   "execution_count": 28,
   "metadata": {},
   "outputs": [
    {
     "data": {
      "text/plain": [
       "0.4757860913472573"
      ]
     },
     "execution_count": 28,
     "metadata": {},
     "output_type": "execute_result"
    }
   ],
   "source": [
    "sum(clf.predict(X_val) == y_val) / len(y_val)"
   ]
  },
  {
   "cell_type": "code",
   "execution_count": null,
   "metadata": {},
   "outputs": [],
   "source": []
  },
  {
   "cell_type": "markdown",
   "metadata": {},
   "source": [
    "## 2.2 baseline 2"
   ]
  },
  {
   "cell_type": "code",
   "execution_count": null,
   "metadata": {},
   "outputs": [],
   "source": []
  },
  {
   "cell_type": "code",
   "execution_count": 11,
   "metadata": {},
   "outputs": [],
   "source": [
    "num_feat = ['Surprise(%)', 'price_change_7', 'price_change_30', 'price_change_90', \\\n",
    "                      'price_change_365', 'prev_vix_values']\n",
    "cat_feat = list(mlb.classes_)\n",
    "baseline2_features = num_feat + cat_feat \n",
    "\n",
    "\n",
    "X_train, X_val, X_test = train_df[baseline2_features], \\\n",
    "                            val_df[baseline2_features], \\\n",
    "                            test_df[baseline2_features]\n",
    "y_train, y_val, y_test = train_df.label.values, val_df.label.values, test_df.label.values"
   ]
  },
  {
   "cell_type": "code",
   "execution_count": 12,
   "metadata": {},
   "outputs": [
    {
     "data": {
      "text/plain": [
       "ColumnTransformer(n_jobs=None, remainder='drop', sparse_threshold=0.3,\n",
       "                  transformer_weights=None,\n",
       "                  transformers=[('num',\n",
       "                                 Pipeline(memory=None,\n",
       "                                          steps=[('scaler',\n",
       "                                                  FunctionTransformer(accept_sparse=False,\n",
       "                                                                      check_inverse=True,\n",
       "                                                                      func=<function <lambda> at 0x7f0804915cb0>,\n",
       "                                                                      inv_kw_args=None,\n",
       "                                                                      inverse_func=None,\n",
       "                                                                      kw_args=None,\n",
       "                                                                      validate=False))],\n",
       "                                          verbose=False),\n",
       "                                 ['Surprise(%)', 'pr...\n",
       "                                  'notice of delisting or failure to satisfy a '\n",
       "                                  'continued listing rule or standard',\n",
       "                                  'other events', 'regulation fd disclosure',\n",
       "                                  'results of operations and financial '\n",
       "                                  'condition',\n",
       "                                  'securities act updating disclosure',\n",
       "                                  'submission of matters to a vote of security '\n",
       "                                  'holders',\n",
       "                                  'temporary suspension of trading under '\n",
       "                                  \"registrant's employee benefit plans\",\n",
       "                                  'termination of a material definitive '\n",
       "                                  'agreement', ...])],\n",
       "                  verbose=False)"
      ]
     },
     "execution_count": 12,
     "metadata": {},
     "output_type": "execute_result"
    }
   ],
   "source": [
    "\n",
    "num_trans = Pipeline(steps=[(\"scaler\", FunctionTransformer(lambda x: x))])\n",
    "cat_trans = Pipeline(\n",
    "    steps=[(\"onehot\", OneHotEncoder(handle_unknown=\"ignore\"))]\n",
    ")\n",
    "col_trans = ColumnTransformer(\n",
    "    transformers=[\n",
    "        (\"num\", num_trans, num_feat),\n",
    "        (\"cat\", cat_trans, cat_feat),\n",
    "    ]\n",
    ")\n",
    "\n",
    "col_trans.fit(X_train)"
   ]
  },
  {
   "cell_type": "code",
   "execution_count": 13,
   "metadata": {},
   "outputs": [],
   "source": [
    "X_train = col_trans.transform(X_train)\n",
    "X_val = col_trans.transform(X_val)\n",
    "X_test = col_trans.transform(X_test)"
   ]
  },
  {
   "cell_type": "code",
   "execution_count": 14,
   "metadata": {},
   "outputs": [
    {
     "name": "stderr",
     "output_type": "stream",
     "text": [
      "/opt/conda/lib/python3.7/site-packages/sklearn/svm/_base.py:947: ConvergenceWarning: Liblinear failed to converge, increase the number of iterations.\n",
      "  \"the number of iterations.\", ConvergenceWarning)\n"
     ]
    },
    {
     "data": {
      "text/plain": [
       "Pipeline(memory=None,\n",
       "         steps=[('linearsvc',\n",
       "                 LinearSVC(C=0.01, class_weight=None, dual=True,\n",
       "                           fit_intercept=True, intercept_scaling=1,\n",
       "                           loss='squared_hinge', max_iter=1000,\n",
       "                           multi_class='ovr', penalty='l2', random_state=0,\n",
       "                           tol=1e-05, verbose=0))],\n",
       "         verbose=False)"
      ]
     },
     "execution_count": 14,
     "metadata": {},
     "output_type": "execute_result"
    }
   ],
   "source": [
    "clf = make_pipeline(LinearSVC(random_state=0, tol=1e-5, C = 0.01))\n",
    "clf.fit(X_train, y_train)"
   ]
  },
  {
   "cell_type": "code",
   "execution_count": 15,
   "metadata": {},
   "outputs": [
    {
     "data": {
      "text/plain": [
       "0.47725449753638133"
      ]
     },
     "execution_count": 15,
     "metadata": {},
     "output_type": "execute_result"
    }
   ],
   "source": [
    "sum(clf.predict(X_train) == y_train) / len(y_train)"
   ]
  },
  {
   "cell_type": "code",
   "execution_count": 16,
   "metadata": {},
   "outputs": [
    {
     "data": {
      "text/plain": [
       "0.48232728941932523"
      ]
     },
     "execution_count": 16,
     "metadata": {},
     "output_type": "execute_result"
    }
   ],
   "source": [
    "sum(clf.predict(X_val) == y_val) / len(y_val)"
   ]
  },
  {
   "cell_type": "code",
   "execution_count": 17,
   "metadata": {},
   "outputs": [
    {
     "data": {
      "text/plain": [
       "(17454, 69)"
      ]
     },
     "execution_count": 17,
     "metadata": {},
     "output_type": "execute_result"
    }
   ],
   "source": [
    "X_train.shape"
   ]
  },
  {
   "cell_type": "code",
   "execution_count": 18,
   "metadata": {},
   "outputs": [
    {
     "data": {
      "text/plain": [
       "array([[ -3.13,  -0.5 ,   2.57, ...,   0.  ,   1.  ,   0.  ],\n",
       "       [  0.  ,   0.16,   0.39, ...,   0.  ,   1.  ,   0.  ],\n",
       "       [  0.  ,   0.53,   0.61, ...,   0.  ,   1.  ,   0.  ],\n",
       "       ...,\n",
       "       [  6.25,  -2.26,  -4.17, ...,   0.  ,   1.  ,   0.  ],\n",
       "       [-11.76,  -3.96, -23.52, ...,   0.  ,   1.  ,   0.  ],\n",
       "       [ 75.  ,  14.02,  12.5 , ...,   0.  ,   1.  ,   0.  ]])"
      ]
     },
     "execution_count": 18,
     "metadata": {},
     "output_type": "execute_result"
    }
   ],
   "source": [
    "X_train"
   ]
  },
  {
   "cell_type": "code",
   "execution_count": null,
   "metadata": {},
   "outputs": [],
   "source": []
  },
  {
   "cell_type": "markdown",
   "metadata": {},
   "source": [
    "## 2.3 unigram model"
   ]
  },
  {
   "cell_type": "code",
   "execution_count": 19,
   "metadata": {},
   "outputs": [],
   "source": [
    "uni_X_train = np.array([np.array(i) for i in train_df.unigram_vec.values])\n",
    "uni_X_val = np.array([np.array(i) for i in val_df.unigram_vec.values])\n",
    "uni_X_test = np.array([np.array(i) for i in test_df.unigram_vec.values])"
   ]
  },
  {
   "cell_type": "code",
   "execution_count": 20,
   "metadata": {},
   "outputs": [],
   "source": [
    "X_train_concat = np.concatenate((X_train, uni_X_train), axis=1)\n",
    "X_val_concat = np.concatenate((X_val, uni_X_val), axis=1)\n",
    "X_test_concat = np.concatenate((X_test, uni_X_test), axis=1)"
   ]
  },
  {
   "cell_type": "code",
   "execution_count": 41,
   "metadata": {},
   "outputs": [],
   "source": [
    "# clf = make_pipeline(LinearSVC(random_state=0, tol=1e-5, C = 0.001))\n",
    "# clf.fit(X_train_concat, y_train)"
   ]
  },
  {
   "cell_type": "code",
   "execution_count": null,
   "metadata": {},
   "outputs": [],
   "source": [
    "sum(clf.predict(X_train_concat) == y_train) / len(y_train)"
   ]
  },
  {
   "cell_type": "code",
   "execution_count": 28,
   "metadata": {},
   "outputs": [
    {
     "data": {
      "text/plain": [
       "0.44365389029148494"
      ]
     },
     "execution_count": 28,
     "metadata": {},
     "output_type": "execute_result"
    }
   ],
   "source": [
    "sum(clf.predict(X_val_concat) == y_val) / len(y_val)"
   ]
  },
  {
   "cell_type": "code",
   "execution_count": null,
   "metadata": {},
   "outputs": [],
   "source": []
  },
  {
   "cell_type": "markdown",
   "metadata": {},
   "source": [
    "## 2.4 phrase model - svc linear kernel"
   ]
  },
  {
   "cell_type": "code",
   "execution_count": 20,
   "metadata": {},
   "outputs": [],
   "source": [
    "phrase_X_train = np.array([np.array(i) for i in train_df.phrase_vec.values])\n",
    "phrase_X_val = np.array([np.array(i) for i in val_df.phrase_vec.values])\n",
    "phrase_X_test = np.array([np.array(i) for i in test_df.phrase_vec.values])"
   ]
  },
  {
   "cell_type": "code",
   "execution_count": 21,
   "metadata": {},
   "outputs": [],
   "source": [
    "X_train_concat = np.concatenate((X_train, phrase_X_train), axis=1)\n",
    "X_val_concat = np.concatenate((X_val, phrase_X_val), axis=1)\n",
    "X_test_concat = np.concatenate((X_test, phrase_X_test), axis=1)"
   ]
  },
  {
   "cell_type": "code",
   "execution_count": 22,
   "metadata": {},
   "outputs": [
    {
     "name": "stderr",
     "output_type": "stream",
     "text": [
      "/opt/conda/lib/python3.7/site-packages/sklearn/svm/_base.py:947: ConvergenceWarning: Liblinear failed to converge, increase the number of iterations.\n",
      "  \"the number of iterations.\", ConvergenceWarning)\n"
     ]
    },
    {
     "name": "stdout",
     "output_type": "stream",
     "text": [
      "=========\n",
      "C = 0.0001\n"
     ]
    },
    {
     "name": "stderr",
     "output_type": "stream",
     "text": [
      "/opt/conda/lib/python3.7/site-packages/sklearn/svm/_base.py:947: ConvergenceWarning: Liblinear failed to converge, increase the number of iterations.\n",
      "  \"the number of iterations.\", ConvergenceWarning)\n"
     ]
    },
    {
     "name": "stdout",
     "output_type": "stream",
     "text": [
      "Train acc: 0.4676\n",
      "Val acc: 0.4193\n",
      "\n",
      "=========\n",
      "C = 0.001\n"
     ]
    },
    {
     "name": "stderr",
     "output_type": "stream",
     "text": [
      "/opt/conda/lib/python3.7/site-packages/sklearn/svm/_base.py:947: ConvergenceWarning: Liblinear failed to converge, increase the number of iterations.\n",
      "  \"the number of iterations.\", ConvergenceWarning)\n"
     ]
    },
    {
     "name": "stdout",
     "output_type": "stream",
     "text": [
      "Train acc: 0.5301\n",
      "Val acc: 0.434\n",
      "\n",
      "=========\n",
      "C = 0.01\n"
     ]
    },
    {
     "name": "stderr",
     "output_type": "stream",
     "text": [
      "/opt/conda/lib/python3.7/site-packages/sklearn/svm/_base.py:947: ConvergenceWarning: Liblinear failed to converge, increase the number of iterations.\n",
      "  \"the number of iterations.\", ConvergenceWarning)\n"
     ]
    },
    {
     "name": "stdout",
     "output_type": "stream",
     "text": [
      "Train acc: 0.5993\n",
      "Val acc: 0.4334\n",
      "\n",
      "=========\n",
      "C = 1\n"
     ]
    },
    {
     "name": "stderr",
     "output_type": "stream",
     "text": [
      "/opt/conda/lib/python3.7/site-packages/sklearn/svm/_base.py:947: ConvergenceWarning: Liblinear failed to converge, increase the number of iterations.\n",
      "  \"the number of iterations.\", ConvergenceWarning)\n"
     ]
    },
    {
     "name": "stdout",
     "output_type": "stream",
     "text": [
      "Train acc: 0.601\n",
      "Val acc: 0.3945\n",
      "\n",
      "=========\n",
      "C = 10\n"
     ]
    },
    {
     "name": "stderr",
     "output_type": "stream",
     "text": [
      "/opt/conda/lib/python3.7/site-packages/sklearn/svm/_base.py:947: ConvergenceWarning: Liblinear failed to converge, increase the number of iterations.\n",
      "  \"the number of iterations.\", ConvergenceWarning)\n"
     ]
    },
    {
     "name": "stdout",
     "output_type": "stream",
     "text": [
      "Train acc: 0.5319\n",
      "Val acc: 0.3358\n",
      "\n"
     ]
    }
   ],
   "source": [
    "# clf = make_pipeline(LinearSVC(random_state=0, tol=1e-5, C = 0.1))\n",
    "# clf.fit(X_train_concat, y_train)\n",
    "\n",
    "for c in [0.0001, 0.001, 0.01, 1, 10]:\n",
    "    print('=========')\n",
    "    print('C =', c)\n",
    "    clf = make_pipeline(LinearSVC(random_state=0, tol=1e-5, C = c))\n",
    "    clf.fit(X_train_concat, y_train)\n",
    "    print('Train acc:', round(sum(clf.predict(X_train_concat) == y_train) / len(y_train), 4))\n",
    "    print('Val acc:', round(sum(clf.predict(X_val_concat) == y_val) / len(y_val), 4))\n",
    "    print()"
   ]
  },
  {
   "cell_type": "code",
   "execution_count": null,
   "metadata": {},
   "outputs": [],
   "source": []
  },
  {
   "cell_type": "markdown",
   "metadata": {},
   "source": [
    "- phrase model 2 - svc rbf kernel"
   ]
  },
  {
   "cell_type": "code",
   "execution_count": 23,
   "metadata": {},
   "outputs": [],
   "source": [
    "from sklearn.svm import SVC"
   ]
  },
  {
   "cell_type": "code",
   "execution_count": 45,
   "metadata": {},
   "outputs": [
    {
     "data": {
      "text/plain": [
       "Pipeline(memory=None,\n",
       "         steps=[('svc',\n",
       "                 SVC(C=0.1, break_ties=False, cache_size=200, class_weight=None,\n",
       "                     coef0=0.0, decision_function_shape='ovr', degree=3,\n",
       "                     gamma='scale', kernel='rbf', max_iter=-1,\n",
       "                     probability=False, random_state=0, shrinking=True,\n",
       "                     tol=0.001, verbose=False))],\n",
       "         verbose=False)"
      ]
     },
     "execution_count": 45,
     "metadata": {},
     "output_type": "execute_result"
    }
   ],
   "source": [
    "clf = make_pipeline(SVC(random_state=0, kernel='rbf', C = 0.1))\n",
    "clf.fit(X_train_concat, y_train)"
   ]
  },
  {
   "cell_type": "code",
   "execution_count": 46,
   "metadata": {},
   "outputs": [
    {
     "data": {
      "text/plain": [
       "0.4391543485733929"
      ]
     },
     "execution_count": 46,
     "metadata": {},
     "output_type": "execute_result"
    }
   ],
   "source": [
    "sum(clf.predict(X_train_concat) == y_train) / len(y_train)"
   ]
  },
  {
   "cell_type": "code",
   "execution_count": 47,
   "metadata": {},
   "outputs": [
    {
     "data": {
      "text/plain": [
       "0.42609593757172365"
      ]
     },
     "execution_count": 47,
     "metadata": {},
     "output_type": "execute_result"
    }
   ],
   "source": [
    "sum(clf.predict(X_val_concat) == y_val) / len(y_val)"
   ]
  },
  {
   "cell_type": "code",
   "execution_count": null,
   "metadata": {},
   "outputs": [],
   "source": []
  },
  {
   "cell_type": "code",
   "execution_count": null,
   "metadata": {},
   "outputs": [
    {
     "name": "stdout",
     "output_type": "stream",
     "text": [
      "=========\n",
      "C = 0.0001\n",
      "Train acc: 0.414\n"
     ]
    }
   ],
   "source": [
    "for c in [0.0001, 0.001, 0.01, 1, 10]:\n",
    "    print('=========')\n",
    "    print('C =', c)\n",
    "    clf = make_pipeline(SVC(random_state=0, kernel='rbf', C = c))\n",
    "    clf.fit(X_train_concat, y_train)\n",
    "    print('Train acc:', round(sum(clf.predict(X_train_concat) == y_train) / len(y_train), 4))\n",
    "    print('Val acc:', round(sum(clf.predict(X_val_concat) == y_val) / len(y_val), 4))\n",
    "    print()"
   ]
  },
  {
   "cell_type": "code",
   "execution_count": null,
   "metadata": {},
   "outputs": [],
   "source": []
  },
  {
   "cell_type": "code",
   "execution_count": null,
   "metadata": {},
   "outputs": [],
   "source": []
  },
  {
   "cell_type": "code",
   "execution_count": null,
   "metadata": {},
   "outputs": [],
   "source": []
  }
 ],
 "metadata": {
  "kernelspec": {
   "display_name": "Python 3",
   "language": "python",
   "name": "python3"
  },
  "language_info": {
   "codemirror_mode": {
    "name": "ipython",
    "version": 3
   },
   "file_extension": ".py",
   "mimetype": "text/x-python",
   "name": "python",
   "nbconvert_exporter": "python",
   "pygments_lexer": "ipython3",
   "version": "3.8.3"
  },
  "toc": {
   "base_numbering": 1,
   "nav_menu": {},
   "number_sections": true,
   "sideBar": true,
   "skip_h1_title": false,
   "title_cell": "Table of Contents",
   "title_sidebar": "Contents",
   "toc_cell": false,
   "toc_position": {},
   "toc_section_display": true,
   "toc_window_display": false
  }
 },
 "nbformat": 4,
 "nbformat_minor": 4
}
