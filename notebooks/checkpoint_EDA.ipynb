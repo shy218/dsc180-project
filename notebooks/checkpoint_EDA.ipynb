{
 "cells": [
  {
   "cell_type": "code",
   "execution_count": 1,
   "metadata": {},
   "outputs": [],
   "source": [
    "import re\n",
    "import heapq\n",
    "import nltk\n",
    "import numpy as np\n",
    "import pandas as pd\n",
    "from operator import itemgetter \n",
    "from sklearn.model_selection import train_test_split"
   ]
  },
  {
   "cell_type": "code",
   "execution_count": null,
   "metadata": {},
   "outputs": [],
   "source": [
    "quality_phrases_0 = pd.read_csv('../data/AutoPhrase2_multi-words.txt', sep = '\\t', header = None)\n",
    "quality_phrases_0.head(5)"
   ]
  },
  {
   "cell_type": "code",
   "execution_count": null,
   "metadata": {},
   "outputs": [],
   "source": [
    "quality_phrases_1 = pd.read_csv('../data/AutoPhrase_multi-words.txt', sep = '\\t', header = None)"
   ]
  },
  {
   "cell_type": "code",
   "execution_count": null,
   "metadata": {},
   "outputs": [],
   "source": [
    "def clean(text):\n",
    "    return str(text).lower()\n",
    "\n",
    "quality_phrases_1['cleaned'] = quality_phrases_1[1].apply(clean)"
   ]
  },
  {
   "cell_type": "code",
   "execution_count": null,
   "metadata": {},
   "outputs": [],
   "source": [
    "top_phrases = quality_phrases_1['cleaned'].loc[quality_phrases_1[0] > 0.9].reset_index()\n",
    "top_phrases.head()"
   ]
  },
  {
   "cell_type": "code",
   "execution_count": null,
   "metadata": {},
   "outputs": [],
   "source": [
    "data = pd.read_pickle(\"../data/feature_encoded_data.pkl\")\n",
    "data.head()"
   ]
  },
  {
   "cell_type": "markdown",
   "metadata": {},
   "source": [
    "# Train, Val, Test Summary Stats"
   ]
  },
  {
   "cell_type": "code",
   "execution_count": null,
   "metadata": {},
   "outputs": [],
   "source": [
    "X_train, X_test = train_test_split(data, test_size = 0.51, random_state = 42)\n",
    "X_val, X_test = train_test_split(X_test, test_size = 0.51, random_state = 42)"
   ]
  },
  {
   "cell_type": "code",
   "execution_count": null,
   "metadata": {},
   "outputs": [],
   "source": [
    "# Train\n",
    "\n",
    "train_stats = []\n",
    "train_stats.append(X_train.shape[0])\n",
    "train_stats.append(sum(X_train['full_text'].apply(lambda x: len(x))))\n",
    "train_stats.append(len(X_train.groupby('symbol')))"
   ]
  },
  {
   "cell_type": "code",
   "execution_count": null,
   "metadata": {},
   "outputs": [],
   "source": [
    "# Val\n",
    "\n",
    "val_stats = []\n",
    "val_stats.append(X_val.shape[0])\n",
    "val_stats.append(sum(X_val['full_text'].apply(lambda x: len(x))))\n",
    "val_stats.append(len(X_val.groupby('symbol')))"
   ]
  },
  {
   "cell_type": "code",
   "execution_count": null,
   "metadata": {},
   "outputs": [],
   "source": [
    "# Test\n",
    "\n",
    "test_stats = []\n",
    "test_stats.append(X_test.shape[0])\n",
    "test_stats.append(sum(X_test['full_text'].apply(lambda x: len(x))))\n",
    "test_stats.append(len(X_test.groupby('symbol')))"
   ]
  },
  {
   "cell_type": "code",
   "execution_count": null,
   "metadata": {},
   "outputs": [],
   "source": [
    "indices = ['Train', 'Val', 'Test']\n",
    "columns = [\"# of 8-K's\", \"# of words\", \"# of firms\"]\n",
    "pd.DataFrame([train_stats, val_stats, test_stats], index = indices, columns = columns)"
   ]
  },
  {
   "cell_type": "markdown",
   "metadata": {},
   "source": [
    "# Knowledge Base Analysis"
   ]
  },
  {
   "cell_type": "code",
   "execution_count": null,
   "metadata": {},
   "outputs": [],
   "source": [
    "knowledge_base_comp = pd.concat([quality_phrases_0.head(10), top_phrases.head(10)], axis = 1)\n",
    "knowledge_base_comp = knowledge_base_comp[[1, \"cleaned\"]]\n",
    "knowledge_base_comp.rename(columns = {1: 'Wiki Base', 'cleaned': 'Investopedia Base'})"
   ]
  },
  {
   "cell_type": "code",
   "execution_count": null,
   "metadata": {},
   "outputs": [],
   "source": []
  },
  {
   "cell_type": "code",
   "execution_count": null,
   "metadata": {},
   "outputs": [],
   "source": []
  },
  {
   "cell_type": "code",
   "execution_count": null,
   "metadata": {},
   "outputs": [],
   "source": []
  }
 ],
 "metadata": {
  "kernelspec": {
   "display_name": "Python 3",
   "language": "python",
   "name": "python3"
  },
  "language_info": {
   "codemirror_mode": {
    "name": "ipython",
    "version": 3
   },
   "file_extension": ".py",
   "mimetype": "text/x-python",
   "name": "python",
   "nbconvert_exporter": "python",
   "pygments_lexer": "ipython3",
   "version": "3.7.6"
  }
 },
 "nbformat": 4,
 "nbformat_minor": 4
}
