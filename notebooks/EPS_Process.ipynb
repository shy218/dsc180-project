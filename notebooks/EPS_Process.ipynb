{
 "cells": [
  {
   "cell_type": "code",
   "execution_count": 8,
   "metadata": {},
   "outputs": [],
   "source": [
    "from bs4 import BeautifulSoup"
   ]
  },
  {
   "cell_type": "code",
   "execution_count": 2,
   "metadata": {},
   "outputs": [],
   "source": [
    "def get_EPS(file):\n",
    "    result = []\n",
    "    soup = BeautifulSoup(open(file), \"html.parser\")\n",
    "    lst = soup.find_all('small')\n",
    "    for tag in lst:\n",
    "        a = tag.find('a')\n",
    "        if a != None and a.text.isupper():\n",
    "            temp = [a.text]\n",
    "            p = a.parent\n",
    "            for i in range(3):\n",
    "                p = p.findNext('small')\n",
    "                temp.append(p.text)\n",
    "            result.append(temp)\n",
    "    return result"
   ]
  },
  {
   "cell_type": "code",
   "execution_count": 5,
   "metadata": {},
   "outputs": [],
   "source": [
    "result = get_EPS(\"../data/raw/EPS/20021101.txt\")"
   ]
  },
  {
   "cell_type": "code",
   "execution_count": 6,
   "metadata": {},
   "outputs": [
    {
     "data": {
      "text/plain": [
       "[['ADLR', '4.41', '-0.65', '-0.68'],\n",
       " ['CI', '1.36', '1.49', '1.47'],\n",
       " ['DDR', '1.67', '0.61', '0.60'],\n",
       " ['EMA.TO', '30.77', '0.17', '0.13'],\n",
       " ['HSP', '9.09', '0.12', '0.11'],\n",
       " ['ITLA', '5.26', '0.80', '0.76'],\n",
       " ['NNBR', '7.69', '0.14', '0.13'],\n",
       " ['OHI', '5.26', '0.20', '0.19'],\n",
       " ['PTSI', '16.67', '0.35', '0.30'],\n",
       " ['PTSX', '28.57', '0.09', '0.07'],\n",
       " ['ROAC', '42.11', '0.27', '0.19'],\n",
       " ['STRA', '5.56', '0.19', '0.18'],\n",
       " ['HME', '0.00', '0.81', '0.81'],\n",
       " ['RGCI', '0.00', '0.04', '0.04'],\n",
       " ['HML.TO', '-18.18', '-0.26', '-0.22'],\n",
       " ['HLR', 'N/A', '-0.02', '0.00'],\n",
       " ['LANC', '-12.50', '0.56', '0.64'],\n",
       " ['PME', '-59.26', '-0.43', '-0.27'],\n",
       " ['FFF.TO', '-115.00', '-0.03', '0.20'],\n",
       " ['WSPT.OB', '-85.71', '-0.13', '-0.07']]"
      ]
     },
     "execution_count": 6,
     "metadata": {},
     "output_type": "execute_result"
    }
   ],
   "source": [
    "result"
   ]
  },
  {
   "cell_type": "code",
   "execution_count": 21,
   "metadata": {},
   "outputs": [],
   "source": [
    "import os\n",
    "from tqdm import tqdm"
   ]
  },
  {
   "cell_type": "code",
   "execution_count": 22,
   "metadata": {
    "scrolled": true
   },
   "outputs": [
    {
     "name": "stderr",
     "output_type": "stream",
     "text": [
      "100%|██████████| 2614/2614 [02:47<00:00, 15.59it/s]\n"
     ]
    }
   ],
   "source": [
    "result = []\n",
    "for file in tqdm(os.listdir('../data/raw/EPS')):\n",
    "    if 'txt' not in file:\n",
    "        continue\n",
    "    temp = get_EPS('../data/raw/EPS/' + file)\n",
    "    date = int(file.split('.')[0])\n",
    "    for t in temp:\n",
    "        result.append([date] + t)"
   ]
  },
  {
   "cell_type": "code",
   "execution_count": 23,
   "metadata": {},
   "outputs": [],
   "source": [
    "import pandas as pd"
   ]
  },
  {
   "cell_type": "code",
   "execution_count": 24,
   "metadata": {},
   "outputs": [],
   "source": [
    "df = pd.DataFrame(result, columns=['Report Date', 'Code', 'Surprise(%)', 'Reported EPS', 'Consensus EPS'])"
   ]
  },
  {
   "cell_type": "code",
   "execution_count": 25,
   "metadata": {},
   "outputs": [
    {
     "data": {
      "text/html": [
       "<div>\n",
       "<style scoped>\n",
       "    .dataframe tbody tr th:only-of-type {\n",
       "        vertical-align: middle;\n",
       "    }\n",
       "\n",
       "    .dataframe tbody tr th {\n",
       "        vertical-align: top;\n",
       "    }\n",
       "\n",
       "    .dataframe thead th {\n",
       "        text-align: right;\n",
       "    }\n",
       "</style>\n",
       "<table border=\"1\" class=\"dataframe\">\n",
       "  <thead>\n",
       "    <tr style=\"text-align: right;\">\n",
       "      <th></th>\n",
       "      <th>Report Date</th>\n",
       "      <th>Code</th>\n",
       "      <th>Surprise(%)</th>\n",
       "      <th>Reported EPS</th>\n",
       "      <th>Consensus EPS</th>\n",
       "    </tr>\n",
       "  </thead>\n",
       "  <tbody>\n",
       "    <tr>\n",
       "      <th>0</th>\n",
       "      <td>20030716</td>\n",
       "      <td>AMR</td>\n",
       "      <td>14.72</td>\n",
       "      <td>-2.26</td>\n",
       "      <td>-2.65</td>\n",
       "    </tr>\n",
       "    <tr>\n",
       "      <th>1</th>\n",
       "      <td>20030716</td>\n",
       "      <td>AMD</td>\n",
       "      <td>25.93</td>\n",
       "      <td>-0.40</td>\n",
       "      <td>-0.54</td>\n",
       "    </tr>\n",
       "    <tr>\n",
       "      <th>2</th>\n",
       "      <td>20030716</td>\n",
       "      <td>ADS</td>\n",
       "      <td>16.67</td>\n",
       "      <td>0.21</td>\n",
       "      <td>0.18</td>\n",
       "    </tr>\n",
       "    <tr>\n",
       "      <th>3</th>\n",
       "      <td>20030716</td>\n",
       "      <td>ALL</td>\n",
       "      <td>13.33</td>\n",
       "      <td>0.85</td>\n",
       "      <td>0.75</td>\n",
       "    </tr>\n",
       "    <tr>\n",
       "      <th>4</th>\n",
       "      <td>20030716</td>\n",
       "      <td>ASD</td>\n",
       "      <td>0.55</td>\n",
       "      <td>1.83</td>\n",
       "      <td>1.82</td>\n",
       "    </tr>\n",
       "  </tbody>\n",
       "</table>\n",
       "</div>"
      ],
      "text/plain": [
       "   Report Date Code Surprise(%) Reported EPS Consensus EPS\n",
       "0     20030716  AMR       14.72        -2.26         -2.65\n",
       "1     20030716  AMD       25.93        -0.40         -0.54\n",
       "2     20030716  ADS       16.67         0.21          0.18\n",
       "3     20030716  ALL       13.33         0.85          0.75\n",
       "4     20030716  ASD        0.55         1.83          1.82"
      ]
     },
     "execution_count": 25,
     "metadata": {},
     "output_type": "execute_result"
    }
   ],
   "source": [
    "df.head()"
   ]
  },
  {
   "cell_type": "code",
   "execution_count": 26,
   "metadata": {},
   "outputs": [
    {
     "data": {
      "text/plain": [
       "(133343, 5)"
      ]
     },
     "execution_count": 26,
     "metadata": {},
     "output_type": "execute_result"
    }
   ],
   "source": [
    "df.shape"
   ]
  },
  {
   "cell_type": "code",
   "execution_count": null,
   "metadata": {},
   "outputs": [],
   "source": []
  },
  {
   "cell_type": "code",
   "execution_count": 18,
   "metadata": {},
   "outputs": [
    {
     "data": {
      "text/plain": [
       "(133343, 5)"
      ]
     },
     "execution_count": 18,
     "metadata": {},
     "output_type": "execute_result"
    }
   ],
   "source": [
    "pd.read_csv('../data/processed/EPS.csv').shape"
   ]
  },
  {
   "cell_type": "code",
   "execution_count": 19,
   "metadata": {},
   "outputs": [
    {
     "data": {
      "text/html": [
       "<div>\n",
       "<style scoped>\n",
       "    .dataframe tbody tr th:only-of-type {\n",
       "        vertical-align: middle;\n",
       "    }\n",
       "\n",
       "    .dataframe tbody tr th {\n",
       "        vertical-align: top;\n",
       "    }\n",
       "\n",
       "    .dataframe thead th {\n",
       "        text-align: right;\n",
       "    }\n",
       "</style>\n",
       "<table border=\"1\" class=\"dataframe\">\n",
       "  <thead>\n",
       "    <tr style=\"text-align: right;\">\n",
       "      <th></th>\n",
       "      <th>Report Date</th>\n",
       "      <th>Code</th>\n",
       "      <th>Surprise(%)</th>\n",
       "      <th>Reported EPS</th>\n",
       "      <th>Consensus EPS</th>\n",
       "    </tr>\n",
       "  </thead>\n",
       "  <tbody>\n",
       "    <tr>\n",
       "      <th>0</th>\n",
       "      <td>20021101</td>\n",
       "      <td>ADLR</td>\n",
       "      <td>4.41</td>\n",
       "      <td>-0.65</td>\n",
       "      <td>-0.68</td>\n",
       "    </tr>\n",
       "    <tr>\n",
       "      <th>1</th>\n",
       "      <td>20021101</td>\n",
       "      <td>CI</td>\n",
       "      <td>1.36</td>\n",
       "      <td>1.49</td>\n",
       "      <td>1.47</td>\n",
       "    </tr>\n",
       "    <tr>\n",
       "      <th>2</th>\n",
       "      <td>20021101</td>\n",
       "      <td>DDR</td>\n",
       "      <td>1.67</td>\n",
       "      <td>0.61</td>\n",
       "      <td>0.60</td>\n",
       "    </tr>\n",
       "    <tr>\n",
       "      <th>3</th>\n",
       "      <td>20021101</td>\n",
       "      <td>EMA.TO</td>\n",
       "      <td>30.77</td>\n",
       "      <td>0.17</td>\n",
       "      <td>0.13</td>\n",
       "    </tr>\n",
       "    <tr>\n",
       "      <th>4</th>\n",
       "      <td>20021101</td>\n",
       "      <td>HSP</td>\n",
       "      <td>9.09</td>\n",
       "      <td>0.12</td>\n",
       "      <td>0.11</td>\n",
       "    </tr>\n",
       "  </tbody>\n",
       "</table>\n",
       "</div>"
      ],
      "text/plain": [
       "   Report Date    Code  Surprise(%)  Reported EPS  Consensus EPS\n",
       "0     20021101    ADLR         4.41         -0.65          -0.68\n",
       "1     20021101      CI         1.36          1.49           1.47\n",
       "2     20021101     DDR         1.67          0.61           0.60\n",
       "3     20021101  EMA.TO        30.77          0.17           0.13\n",
       "4     20021101     HSP         9.09          0.12           0.11"
      ]
     },
     "execution_count": 19,
     "metadata": {},
     "output_type": "execute_result"
    }
   ],
   "source": [
    "pd.read_csv('../data/processed/EPS.csv').head()"
   ]
  },
  {
   "cell_type": "code",
   "execution_count": null,
   "metadata": {},
   "outputs": [],
   "source": []
  },
  {
   "cell_type": "code",
   "execution_count": null,
   "metadata": {},
   "outputs": [],
   "source": []
  },
  {
   "cell_type": "code",
   "execution_count": 15,
   "metadata": {
    "collapsed": true
   },
   "outputs": [],
   "source": [
    "df.to_csv('EPS.csv', index=None)"
   ]
  },
  {
   "cell_type": "code",
   "execution_count": null,
   "metadata": {
    "collapsed": true
   },
   "outputs": [],
   "source": []
  }
 ],
 "metadata": {
  "kernelspec": {
   "display_name": "Python 3",
   "language": "python",
   "name": "python3"
  },
  "language_info": {
   "codemirror_mode": {
    "name": "ipython",
    "version": 3
   },
   "file_extension": ".py",
   "mimetype": "text/x-python",
   "name": "python",
   "nbconvert_exporter": "python",
   "pygments_lexer": "ipython3",
   "version": "3.8.3"
  },
  "toc": {
   "base_numbering": 1,
   "nav_menu": {},
   "number_sections": true,
   "sideBar": true,
   "skip_h1_title": false,
   "title_cell": "Table of Contents",
   "title_sidebar": "Contents",
   "toc_cell": false,
   "toc_position": {},
   "toc_section_display": true,
   "toc_window_display": false
  }
 },
 "nbformat": 4,
 "nbformat_minor": 2
}
